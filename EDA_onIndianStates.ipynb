{
 "cells": [
  {
   "cell_type": "markdown",
   "metadata": {},
   "source": [
    "# RASHI JAIN, PGID-11920010"
   ]
  },
  {
   "cell_type": "code",
   "execution_count": null,
   "metadata": {},
   "outputs": [],
   "source": [
    "#1. Suppose the cover price of a book is Rs. 200, but bookstores get a 25% discount. \n",
    "# Shipping costs Rs. 40 for the first copy and Rs. 10 for each additional copy. \n",
    "# Write a Python program to calculate the total wholesale cost for 60 copies\n",
    "\n",
    "cvr_price = 200  #Cover price of book\n",
    "dis = 0.25       #discount to bookstore\n",
    "tot_copies = 60  #Total number of copies\n",
    "\n",
    "dealer_price = cvr_price*(1 - dis)  #Price at which bookstore is getting book\n",
    "first_shipp = 40                    #shipping cost for first copy of book\n",
    "rest_shipp = 10                     #Shipping cost for rest copies of book\n",
    "\n",
    "tot_shipp = first_shipp + ((tot_copies -1) * rest_shipp)            #total shipping cost\n",
    "\n",
    "tot_wholesale_cost = (tot_copies * dealer_price) + tot_shipp        #total wholesale cost\n",
    "\n",
    "print(\"Total wholesale cost\", tot_wholesale_cost)\n"
   ]
  },
  {
   "cell_type": "code",
   "execution_count": 2,
   "metadata": {},
   "outputs": [
    {
     "name": "stdout",
     "output_type": "stream",
     "text": [
      "32\n",
      "2\n",
      "Is 32 a power of 2 ?: True\n"
     ]
    }
   ],
   "source": [
    "#2. Write a function in Python that takes parameters x and y and returns True if x is a power of y\n",
    "\n",
    "def ispower(x,y):\n",
    "    if(x==1):\n",
    "        return True\n",
    "    \n",
    "    if(x % y != 0): \n",
    "        return False\n",
    "    \n",
    "    return ispower(x/y,y)\n",
    "#funtion ends here\n",
    "\n",
    "#taking input from user\n",
    "x = int(input())\n",
    "y = int(input())\n",
    "\n",
    "print(\"Is\", x, \"a power of\",y,\"?:\", ispower(x,y))\n",
    "        \n",
    "    "
   ]
  },
  {
   "cell_type": "code",
   "execution_count": 6,
   "metadata": {},
   "outputs": [
    {
     "name": "stdout",
     "output_type": "stream",
     "text": [
      "12\n",
      "15\n",
      "18\n",
      "GCD of [ 12 15 18 ] is: 3\n"
     ]
    }
   ],
   "source": [
    "#3. GCD of three variables\n",
    "\n",
    "import math\n",
    "\n",
    "def result(a, b, c):\n",
    "    temp = math.gcd(a,b)   #finding gcd for two variables first\n",
    "    return math.gcd(c, temp)   \n",
    "#funtion ends here\n",
    "\n",
    "#taking input from user\n",
    "x = int(input())\n",
    "y = int(input())\n",
    "z = int(input())\n",
    "\n",
    "print(\"GCD of [\",x,y,z,\"] is:\",result(x,y,z))\n",
    "\n"
   ]
  },
  {
   "cell_type": "code",
   "execution_count": 9,
   "metadata": {},
   "outputs": [
    {
     "name": "stdout",
     "output_type": "stream",
     "text": [
      "2019-09-06 23:26:00.755876\n",
      "HOUR: 23, MINUTE: 26, SECOND 00\n",
      "NUMBER OF DAYS SINCE EPOCH:  18145 days, 23:26:00.755876\n"
     ]
    }
   ],
   "source": [
    "#4. Python script that reads the current time and converts it to a time of day in\n",
    "# hours, minutes, and seconds, plus the number of days since the epoch\n",
    "\n",
    "import datetime\n",
    "\n",
    "x = datetime.datetime.now() #Reading current time\n",
    "print(x)\n",
    "\n",
    "print(x.strftime(\"HOUR: %H, MINUTE: %M, SECOND %S\")) \n",
    "print('NUMBER OF DAYS SINCE EPOCH: ',x - datetime.datetime(1970,1,1,0,0))"
   ]
  },
  {
   "cell_type": "code",
   "execution_count": 1,
   "metadata": {},
   "outputs": [
    {
     "name": "stdout",
     "output_type": "stream",
     "text": [
      "Enter a: 7\n",
      "Enter b: 6\n",
      "Enter c: 5\n",
      "Can we form triangle from [ 7 6 5 ] ? : True\n"
     ]
    }
   ],
   "source": [
    "#5. Function that takes three integers as arguments, and that prints either “Yes” or “No”,\n",
    "# depending on whether you can or cannot form a triangle from the given lengths\n",
    "\n",
    "\n",
    "#Function to check whether a,b,c can form triangle or not\n",
    "def isTriangle(a,b,c):\n",
    "    if( ((a+b)>c) and ((b+c)>a) and ((a+c)>b) ):  \n",
    "       return True\n",
    "    else:\n",
    "       return False\n",
    "#funtion ends here\n",
    "\n",
    "#taking input from user\n",
    "a = int(input(\"Enter a: \"))\n",
    "b = int(input(\"Enter b: \"))\n",
    "c = int(input(\"Enter c: \"))     \n",
    "\n",
    "print(\"Can we form triangle from [\",a,b,c,\"] ? :\",isTriangle(a,b,c))"
   ]
  },
  {
   "cell_type": "code",
   "execution_count": 28,
   "metadata": {},
   "outputs": [
    {
     "name": "stdout",
     "output_type": "stream",
     "text": [
      "Enter number of elements in list: 3\n",
      "element:3\n",
      "element:2\n",
      "element:1\n",
      "List is:  [3, 2, 1]\n",
      "cummulative sum is:  [3, 5, 6]\n"
     ]
    }
   ],
   "source": [
    "#7. function for cummulative function\n",
    "def cummulative_sum(t):\n",
    "    length = len(t)\n",
    "    for i in range(1, length):\n",
    "        t[i] += t[i-1]\n",
    "    return t\n",
    "#funtion ends here\n",
    "\n",
    "    \n",
    "#Program for cummulative function\n",
    "t = []\n",
    "length = int(input(\"Enter number of elements in list: \"))\n",
    "\n",
    "for i in range(0,length):\n",
    "    element = int(input(\"element:\"))\n",
    "    t.append(element)  #adding element in list\n",
    "    \n",
    "print(\"List is: \",t)\n",
    "print(\"cummulative sum is: \" , cummulative_sum(t))"
   ]
  },
  {
   "cell_type": "code",
   "execution_count": null,
   "metadata": {},
   "outputs": [],
   "source": []
  },
  {
   "cell_type": "code",
   "execution_count": 70,
   "metadata": {
    "scrolled": true
   },
   "outputs": [
    {
     "name": "stdout",
     "output_type": "stream",
     "text": [
      "C:\\input.txt\n",
      "Stripped file KSDFJKLJSFLW90KSLSF098U\n"
     ]
    }
   ],
   "source": [
    "# 8. Program that reads a file, breaks each line into words, strips\n",
    "# whitespace and punctuation from the words, and converts them to uppercase\n",
    "\n",
    "import string\n",
    "\n",
    "def new_text(filename):\n",
    "    modified_text = []\n",
    "    input_file = open(filename)\n",
    "    pat =string.punctuation+string.whitespace\n",
    "    ans=''\n",
    "    translation_table = dict.fromkeys(map(ord, pat), None)\n",
    "    line = input_file.readline()\n",
    "    while line:\n",
    "        line = line.translate(translation_table)\n",
    "        ans+=line\n",
    "        line = input_file.readline()\n",
    "\n",
    "    input_file.close()\n",
    "    output_file=open(r\"result.txt\",'w')\n",
    "    output_file.write(ans.upper())\n",
    "    output_file.close()\n",
    "    return ans.upper()\n",
    "\n",
    "\n",
    "fn = input() #taking filepath from User\n",
    "print(\"Stripped file\", new_text(fn))"
   ]
  },
  {
   "cell_type": "code",
   "execution_count": null,
   "metadata": {},
   "outputs": [],
   "source": [
    "#9. Program that searches a directory and all of its subdirectories recursively,\n",
    "# and returns a list of complete paths for all files with a given suffix \n",
    "\n",
    "\n",
    "import os\n",
    "\n",
    "def file_recur(path):\n",
    "    newlist = os.listdir(path)  #Storing all the files and directories in the given path\n",
    "    anslist = []   #Empty list to store filename along with their path\n",
    "    for i in newlist:\n",
    "        if(os.path.isdir(path+'\\\\'+i)):  #Checking whether a directory or not\n",
    "            anslist.extend(file_recur(path+'\\\\'+i))   #Recursive call to check for more folders inside this folder\n",
    "                                                      #Then adding Files present inside directory to AnsList\n",
    "            \n",
    "        if(os.path.isfile(path+'\\\\'+i)): #If it is a file, add it directly to AnsList along with path\n",
    "            anslist.append(path+'\\\\'+i)\n",
    "    #for loop ends here\n",
    "    \n",
    "    return anslist\n",
    "#End of Function\n",
    "\n",
    "\n",
    "fn = input() #taking filepath from User\n",
    "file_recur(new_text(fn))\n"
   ]
  }
 ],
 "metadata": {
  "kernelspec": {
   "display_name": "Python 3",
   "language": "python",
   "name": "python3"
  },
  "language_info": {
   "codemirror_mode": {
    "name": "ipython",
    "version": 3
   },
   "file_extension": ".py",
   "mimetype": "text/x-python",
   "name": "python",
   "nbconvert_exporter": "python",
   "pygments_lexer": "ipython3",
   "version": "3.7.3"
  }
 },
 "nbformat": 4,
 "nbformat_minor": 2
}
